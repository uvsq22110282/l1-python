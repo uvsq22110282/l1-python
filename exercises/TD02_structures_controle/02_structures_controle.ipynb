{
 "cells": [
  {
   "cell_type": "markdown",
   "metadata": {
    "slideshow": {
     "slide_type": "slide"
    }
   },
   "source": [
    "# TD 2: Les structures de contrôle\n",
    "\n",
    "---\n",
    "\n",
    "## 0. Récupération des nouveaux documents\n",
    "\n",
    "\n",
    "Les sujets de TD ainsi que les supports de cours sont publiés en ligne au fur et à mesure sur l'espace github original [https://github.com/uvsq-info/l1-python](https://github.com/uvsq-info/l1-python). Au moment où vous avez fait le fork de cet espace sur votre espace personnel, il est probable que tous les contenus n'étaient pas présents. Pour compléter votre espace, deux solutions sont possibles:\n",
    "\n",
    "\n",
    "1. (solution à privilégier) aller sur la page du projet original [https://github.com/uvsq-info/l1-python](https://github.com/uvsq-info/l1-python), et cliquer sur le bouton vert `Code` en haut à droite. Choisir `download ZIP`, puis extraire l'ensemble des nouveaux fichiers vers votre projet personnel local. Vous pouvez ensuite sauvegarder ces ajouts dans votre espace github personnel en suivant la procédure habituelle.\n",
    "2. (solution qui présente des risques de conflits entre différentes versions d'un même document) en ligne de commande dans le terminal, en suivant la procédure de la section *Intégrer les mises à jour du projet original* du fichier [README.md](https://github.com/uvsq-info/l1-python/blob/master/README.md#int%C3%A9grer-les-mises-%C3%A0-jour-du-projet-original)\n"
   ]
  },
  {
   "cell_type": "markdown",
   "metadata": {
    "slideshow": {
     "slide_type": "slide"
    }
   },
   "source": [
    "---\n",
    "\n",
    "## 1. Premiers exercices avec les structures conditionnelles\n",
    "\n",
    "**Exercice 1:**\n",
    "\n",
    "1. Soit *num1 = 15* et *num2 = 5*. Ecrire un programme qui affiche *Factors!* si l'un des nombres est un facteur de l'autre (c'est-à-dire qu'il divise l'autre nombre). Si aucun des nombres n'est un facteur de l'autre, le programme n'affiche rien.\n",
    "2. Changer le code que vous avez écrit de telle sorte qu'il affiche toujours *Factors!* si un nombre est un facteur de l'autre, mais qui affiche aussi *Not factors!* si aucun des nombres n'est un facteur de l'autre."
   ]
  },
  {
   "cell_type": "code",
   "execution_count": 117,
   "metadata": {
    "slideshow": {
     "slide_type": "notes"
    }
   },
   "outputs": [
    {
     "name": "stdout",
     "output_type": "stream",
     "text": [
      "factor!\n",
      "5 divise 15\n"
     ]
    }
   ],
   "source": [
    "num1=15\n",
    "num2=5\n",
    "if num1%num2==0:\n",
    "    print(\"Factor!\")\n",
    "    print(num2,\"divise\", num1)\n",
    "elif num2%num1==0 :\n",
    "    print(\"Factors!\")\n",
    "    print(num1,\"divise\", num2)\n"
   ]
  },
  {
   "cell_type": "code",
   "execution_count": 14,
   "metadata": {},
   "outputs": [
    {
     "name": "stdout",
     "output_type": "stream",
     "text": [
      "not factor!\n"
     ]
    }
   ],
   "source": [
    "num1=15\n",
    "num2=6\n",
    "if num1%num2==0:\n",
    "    print(\"factor!\")\n",
    "    print(num2,\"divise\", num1)\n",
    "elif num2%num1==0:\n",
    "    print(\"factors!\")\n",
    "    print(num1,\"divise\", num2)\n",
    "else :\n",
    "    print(\"not factor!\")"
   ]
  },
  {
   "cell_type": "markdown",
   "metadata": {
    "slideshow": {
     "slide_type": "slide"
    }
   },
   "source": [
    "**Exercice 2:**\n",
    "    \n",
    "Soit *state = \"Georgia\"*. Ecrire un programme qui permet d'afficher un message spécifique en fonction de la variable *state* :  \n",
    "* \"School isn't cancelled.\" si nous sommes à New Jersey,  \n",
    "* \"School is postponed.\" si nous sommes à North Carolina,\n",
    "* \"School is cancelled!\" si nous sommes à Georgia,  \n",
    "* \"School's status is unknown\" si nous ne sommes pas dans un des trois états précédemment mentionnés."
   ]
  },
  {
   "cell_type": "code",
   "execution_count": 23,
   "metadata": {
    "slideshow": {
     "slide_type": "notes"
    }
   },
   "outputs": [
    {
     "name": "stdout",
     "output_type": "stream",
     "text": [
      "School is cancelled!\n"
     ]
    }
   ],
   "source": [
    "state=\"Georgia\"\n",
    "if state==\"New Jersey\":\n",
    "    print(\"School isn't cancelled\")\n",
    "elif state==\"North Carolina\":\n",
    "    print(\"School is postponed\")\n",
    "elif state==\"Georgia\":\n",
    "    print(\"School is cancelled!\")\n",
    "else : \n",
    "    print(\"School's status is unknown\")\n",
    "    "
   ]
  },
  {
   "cell_type": "markdown",
   "metadata": {
    "slideshow": {
     "slide_type": "slide"
    }
   },
   "source": [
    "**Exercice 3:**\n",
    "\n",
    "Ecrire un programme pour découvrir le signe du zodiaque chinois pour une année donnée. Le signe du zodiaque chinois est basé sur un cycle de 12 ans et chaque année de ce cycle est représentée par un animal :\n",
    "* 0: monkey\n",
    "* 1: rooster\n",
    "* 2: dog\n",
    "* 3: pig\n",
    "* 4: rat\n",
    "* 5: ox\n",
    "* 6: tiger\n",
    "* 7: rabbit\n",
    "* 8: dragon\n",
    "* 9: snake\n",
    "* 10: horse\n",
    "* 11: sheep\n",
    "\n",
    "La valeur de l'année % 12 détermine le signe du zodiaque. Par exemple, 1900 est l'année du *rat* puisque 1900 % 12 est 4."
   ]
  },
  {
   "cell_type": "code",
   "execution_count": 24,
   "metadata": {
    "slideshow": {
     "slide_type": "notes"
    }
   },
   "outputs": [
    {
     "name": "stdout",
     "output_type": "stream",
     "text": [
      "sheep\n"
     ]
    }
   ],
   "source": [
    "a=2003\n",
    "if a%12==0:\n",
    "    print(\"monkey\")\n",
    "elif a%12==1:\n",
    "    print(\"rooster\")\n",
    "elif a%12==2:\n",
    "    print(\"dog\")\n",
    "elif a%12==3:\n",
    "    print(\"pig\")\n",
    "elif a%12==4:\n",
    "    print(\"rat\")\n",
    "elif a%12==5:\n",
    "    print(\"ox\")\n",
    "elif a%12==6:\n",
    "    print(\"tiger\")\n",
    "elif a%12==7:\n",
    "    print(\"rabbit\")\n",
    "elif a%12==8:\n",
    "    print(\"dragon\")\n",
    "elif a%12==9:\n",
    "    print(\"snake\")\n",
    "elif a%12==10:\n",
    "    print(\"horse\")\n",
    "else: \n",
    "    print(\"sheep\")"
   ]
  },
  {
   "cell_type": "code",
   "execution_count": 26,
   "metadata": {},
   "outputs": [
    {
     "name": "stdout",
     "output_type": "stream",
     "text": [
      "snake\n"
     ]
    }
   ],
   "source": [
    "year=2001\n",
    "list1=[\"monkey\",\"rooster\",\"dog\",\"pig\",\"rat\",\"ox\",\"tiger\",\"rabbit\",\"dragon\",\"snake\",\"horse\",\"sheep\"]\n",
    "print(list1[year%12]) #list1[year%12]=list1[11] dc correspond à l'indice 11 soit \"sheep\""
   ]
  },
  {
   "cell_type": "markdown",
   "metadata": {
    "slideshow": {
     "slide_type": "slide"
    }
   },
   "source": [
    "**Exercice 4:**\n",
    "\n",
    "Soit *temperature = -3.7* et *celsius = True*. *celsius* est une variable booléenne qui indique si la température est en Celsius; si c'est *False*, alors la température donnée est en Fahrenheit. Ecrire un premier programme en utilisant *if-else* seulement qui permet d'afficher *Freezing* si les valeurs données représentent une température très basse, et *Not freezing* si ce n'est pas le cas. En Celsius, on considère qu'il fait très froid lorsque la température est inférieure ou égale à 0 degré. En Fahrenheit, on considère qu'il fait très froid lorsque la température est inférieure ou égale à 32 degrés. Proposer une seconde solution en utilisant *if-elif-else* à ce même problème."
   ]
  },
  {
   "cell_type": "code",
   "execution_count": 1,
   "metadata": {
    "slideshow": {
     "slide_type": "notes"
    }
   },
   "outputs": [
    {
     "name": "stdout",
     "output_type": "stream",
     "text": [
      "Freezing\n"
     ]
    }
   ],
   "source": [
    "temperature=-3.7\n",
    "celsius=True\n",
    "if (celsius==True and temperature <= 0) or (celsius==False and temperature <= 32):\n",
    "    print(\"Freezing\")\n",
    "else:\n",
    "    print (\"Not Freezing\")"
   ]
  },
  {
   "cell_type": "code",
   "execution_count": 113,
   "metadata": {},
   "outputs": [
    {
     "name": "stdout",
     "output_type": "stream",
     "text": [
      "Freezing\n"
     ]
    }
   ],
   "source": [
    "temperature=10\n",
    "celsius=False\n",
    "if celsius==True and temperature<=0: \n",
    "    print(\"Freezing\")\n",
    "elif celsius==False and temperature <=32:\n",
    "    print(\"Freezing\")\n",
    "else: \n",
    "    print(\"Not freezing\")\n"
   ]
  },
  {
   "cell_type": "markdown",
   "metadata": {
    "slideshow": {
     "slide_type": "slide"
    }
   },
   "source": [
    "**Exercice 5:**\n",
    "    \n",
    "Ecrire un programme qui permet de déterminer si une année est bissextile ou non en utilisant une seule instruction *if-else*. Une année *A* est bissextile si *A* est divisible par 4. Elle ne l’est cependant pas si *A* est un multiple\n",
    "de 100, à moins que *A* ne soit multiple de 400.    "
   ]
  },
  {
   "cell_type": "code",
   "execution_count": 139,
   "metadata": {
    "slideshow": {
     "slide_type": "notes"
    }
   },
   "outputs": [
    {
     "name": "stdout",
     "output_type": "stream",
     "text": [
      "A est une année bissextile\n"
     ]
    }
   ],
   "source": [
    "A=800\n",
    "if (A%4==0 and A%100!=0) or A%400==0:\n",
    "    print(\"A est une année bissextile\")\n",
    "else:\n",
    "    print(\"A n'est pas une année bissextile\")\n"
   ]
  },
  {
   "cell_type": "markdown",
   "metadata": {},
   "source": [
    "---\n",
    "\n",
    "## 2. Premiers exercices avec les structures itératives\n",
    "\n",
    "**Exercice 6:**\n",
    "\n",
    "1. Ecrire un programme qui permet d'afficher tous les nombres entre 1 et 10 (bornes incluses).\n",
    "2. Ecrire un programme se limitant à la boucle *for* qui permet d'afficher tous les nombres pairs entre 1 et 20 (bornes incluses). Proposer une deuxième solution en incluant une structure conditionnelle."
   ]
  },
  {
   "cell_type": "code",
   "execution_count": 47,
   "metadata": {},
   "outputs": [
    {
     "name": "stdout",
     "output_type": "stream",
     "text": [
      "i= 1\n",
      "i= 2\n",
      "i= 3\n",
      "i= 4\n",
      "i= 5\n",
      "i= 6\n",
      "i= 7\n",
      "i= 8\n",
      "i= 9\n",
      "i= 10\n",
      "Terminé\n"
     ]
    }
   ],
   "source": [
    "#Question 1:\n",
    "for i in range(1,11):\n",
    "    print(\"i=\",i)\n",
    "print(\"Terminé\")"
   ]
  },
  {
   "cell_type": "code",
   "execution_count": 48,
   "metadata": {},
   "outputs": [
    {
     "name": "stdout",
     "output_type": "stream",
     "text": [
      "i= 0\n",
      "i= 2\n",
      "i= 4\n",
      "i= 6\n",
      "i= 8\n",
      "i= 10\n",
      "i= 12\n",
      "i= 14\n",
      "i= 16\n",
      "i= 18\n",
      "i= 20\n",
      "Terminé\n"
     ]
    }
   ],
   "source": [
    "#Question 2 (1ère partie):\n",
    "for i in range(0,21,2):\n",
    "    print(\"i=\",i)\n",
    "print(\"Terminé\")"
   ]
  },
  {
   "cell_type": "code",
   "execution_count": 49,
   "metadata": {},
   "outputs": [
    {
     "name": "stdout",
     "output_type": "stream",
     "text": [
      "i= 0\n",
      "i= 2\n",
      "i= 4\n",
      "i= 6\n",
      "i= 8\n",
      "i= 10\n",
      "i= 12\n",
      "i= 14\n",
      "i= 16\n",
      "i= 18\n",
      "i= 20\n",
      "Terminé\n"
     ]
    }
   ],
   "source": [
    "#Question 2 (2ème partie)\n",
    "for i in range(0,21):\n",
    "    if i%2==0:\n",
    "        print(\"i=\",i)\n",
    "print(\"Terminé\")"
   ]
  },
  {
   "cell_type": "markdown",
   "metadata": {},
   "source": [
    "**Exercice 7:**\n",
    "    \n",
    "1. Ecrire un programme qui demande à l'utilisateur de saisir *n* nombres, *n* étant choisi par l'utilisateur, puis d'afficher la moyenne de ces nombres.\n",
    "\n",
    "2. Même question, mais l'utilisateur ne choisit pas à l'avance le nombre *n*, la procédure s'arrête quand il saisit le nombre -1.\n"
   ]
  },
  {
   "cell_type": "code",
   "execution_count": 76,
   "metadata": {},
   "outputs": [
    {
     "name": "stdout",
     "output_type": "stream",
     "text": [
      "La moyenne des nombres choisis est 3.0\n"
     ]
    }
   ],
   "source": [
    "#Question 1 : \n",
    "n=int(input(\"Combien de nombre à saisir?\"))\n",
    "result=0\n",
    "for i in range(1,n+1):\n",
    "    result+=int(input(\"Choisir un nombre n\"))\n",
    "print(\"La moyenne des nombres choisis est\",result/n)\n"
   ]
  },
  {
   "cell_type": "code",
   "execution_count": null,
   "metadata": {},
   "outputs": [],
   "source": [
    "#Correction\n",
    "n=int(input(\"select a number\"))\n",
    "total = 0\n",
    "for i in range (0,n):\n",
    "    total+=int(input(\"enter a number\"))\n",
    "print(total/n)"
   ]
  },
  {
   "cell_type": "code",
   "execution_count": 140,
   "metadata": {},
   "outputs": [
    {
     "name": "stdout",
     "output_type": "stream",
     "text": [
      "La moyenne des nombres choisis est 0.5\n"
     ]
    }
   ],
   "source": [
    "#Question 2 :\n",
    "somme=0\n",
    "i=0\n",
    "n=0\n",
    "while n!=-1:\n",
    "    n=int(input(\"Choisir un nombre\"))\n",
    "    i+=1\n",
    "    somme+=n\n",
    "print(\"La moyenne des nombres choisis est\",somme/i)"
   ]
  },
  {
   "cell_type": "code",
   "execution_count": 77,
   "metadata": {},
   "outputs": [
    {
     "name": "stdout",
     "output_type": "stream",
     "text": [
      "2.0\n"
     ]
    }
   ],
   "source": [
    "#Correction\n",
    "n=int(input(\"enter a number\"))\n",
    "total=0\n",
    "counter=0\n",
    "while n!=-1:\n",
    "    total+=n\n",
    "    counter+=1\n",
    "    n=int(input(\"enter number\"))\n",
    "print(total/counter)"
   ]
  },
  {
   "cell_type": "markdown",
   "metadata": {},
   "source": [
    "**Exercice 8:**\n",
    "\n",
    "Ecrire un programme qui permet de calculer le factoriel d'un nombre positif donné par l'utlisateur selon la formule suivante : \n",
    "n! = 1 x 2 x ... x n.  \n",
    "\n",
    "1. Une première version en utilisant la boucle *for*\n",
    "2. Une seconde version en utilisant la boucle *while*"
   ]
  },
  {
   "cell_type": "code",
   "execution_count": 80,
   "metadata": {},
   "outputs": [
    {
     "name": "stdout",
     "output_type": "stream",
     "text": [
      "n!= 24\n"
     ]
    }
   ],
   "source": [
    "#Question 1 : \n",
    "n=int(input(\"Choisir un nombre\"))\n",
    "f=1\n",
    "for i in range(1,n+1): #on reste dans la bouble jusqu'au nombre choisi car si on prend n=4, on a : [1,5[\n",
    "    f*=i\n",
    "print(\"n!=\",f)"
   ]
  },
  {
   "cell_type": "code",
   "execution_count": 84,
   "metadata": {},
   "outputs": [
    {
     "name": "stdout",
     "output_type": "stream",
     "text": [
      "5!=120\n"
     ]
    }
   ],
   "source": [
    "#Correction:\n",
    "n=int(input(\"select a number\"))\n",
    "fact_n=1\n",
    "for i in range(1,n+1):\n",
    "    fact_n*=i\n",
    "print(str(n)+\"!=\"+str(fact_n))\n"
   ]
  },
  {
   "cell_type": "code",
   "execution_count": 83,
   "metadata": {},
   "outputs": [
    {
     "name": "stdout",
     "output_type": "stream",
     "text": [
      "n!= 1\n"
     ]
    }
   ],
   "source": [
    "#Question 2 : \n",
    "n=int(input(\"Choisir un nombre\"))\n",
    "f=1\n",
    "i=1\n",
    "while i!=n+1: #ou écrire : i<n+1\n",
    "    f=i*f\n",
    "    i+=1\n",
    "print(\"n!=\",f)"
   ]
  },
  {
   "cell_type": "code",
   "execution_count": null,
   "metadata": {},
   "outputs": [],
   "source": [
    "\"\"\"for i in range(5,15,2) = \n",
    "i=5\n",
    "while i<15:\n",
    "    i+=2\"\"\""
   ]
  },
  {
   "cell_type": "markdown",
   "metadata": {
    "slideshow": {
     "slide_type": "slide"
    }
   },
   "source": [
    "---\n",
    "\n",
    "## 3. Pour aller plus loin\n",
    "\n",
    "**Excercice 9:**\n",
    "\n",
    "Ecrire un programme qui permet de connaître le jour de naissance de l'utilisateur en posant cinq questions.\n",
    "Chaque question demande si le jour est dans l'un des cinq ensembles suivants :\n",
    "\n",
    "* Set 1: \\[1 3 5 7 9 11 13 15 17 19 21 23 25 27 29 31\\]\n",
    "* Set 2: \\[2 3 6 7 10 11 14 15 18 19 22 23 26 27 30 31\\]\n",
    "* Set 3: \\[4 5 6 7 12 13 14 15 20 21 22 23 28 29 30 31\\]\n",
    "* Set 4: \\[8 9 10 11 12 13 14 15 24 25 26 27 28 29 30 31\\]\n",
    "* Set 5: \\[16 17 18 19 20 21 22 23 24 25 26 27 28 29 30 31\\]\n",
    "    \n",
    "\n",
    "Le jour de naissance est la somme des premiers nombres dans les ensembles où le jour apparaît. Par exemple,\n",
    "si le jour de naissance est 19, il apparaît dans Set 1, Set 2 et Set 5. Les premiers chiffres de ces trois ensembles sont 1, 2 et 16. Leur somme est 19."
   ]
  },
  {
   "cell_type": "code",
   "execution_count": 93,
   "metadata": {
    "slideshow": {
     "slide_type": "notes"
    }
   },
   "outputs": [
    {
     "name": "stdout",
     "output_type": "stream",
     "text": [
      "Le jour d'anniversaire est le 19\n"
     ]
    }
   ],
   "source": [
    "list1=[1, 3, 5, 7, 9, 11, 13, 15, 17, 19, 21, 23, 25, 27, 29, 31]\n",
    "list2=[2, 3, 6, 7, 10, 11, 14, 15, 18, 19, 22, 23, 26, 27, 30, 31]\n",
    "list3=[4, 5, 6, 7, 12, 13, 14, 15, 20, 21, 22, 23, 28, 29, 30, 31]\n",
    "list4=[8, 9, 10, 11, 12, 13, 14, 15, 24, 25, 26, 27, 28, 29, 30, 31]\n",
    "list5=[16, 17, 18, 19, 20, 21, 22, 23, 24, 25, 26, 27, 28, 29, 30, 31]\n",
    "n=int(input(\"Quel est ton jour de naissance?\"))\n",
    "sum=0\n",
    "if n in list1: #question n°1\n",
    "    sum=list1[0]\n",
    "if n in list2: #question n°2\n",
    "    sum+=list2[0]\n",
    "if n in list3: #question n°3\n",
    "    sum+=list3[0]\n",
    "if n in list4: #question n°4\n",
    "    sum+=list4[0]\n",
    "if n in list5: #question n°5\n",
    "    sum+=list5[0]\n",
    "print(\"Le jour d'anniversaire est le\", sum)"
   ]
  },
  {
   "cell_type": "code",
   "execution_count": 75,
   "metadata": {},
   "outputs": [
    {
     "name": "stdout",
     "output_type": "stream",
     "text": [
      "[1, 3, 5, 7, 9, 11, 13, 15, 17, 19, 21, 23, 25, 27, 29, 31] [2, 3, 6, 7, 10, 11, 14, 15, 18, 19, 22, 23, 26, 27, 30, 31] [4, 5, 6, 7, 12, 13, 14, 15, 20, 21, 22, 23, 28, 29, 30, 31] [8, 9, 10, 11, 12, 13, 14, 15, 24, 25, 26, 27, 28, 29, 30, 31] [16, 17, 18, 19, 20, 21, 22, 23, 24, 25, 26, 27, 28, 29, 30, 31]\n",
      "Le jour d'anniversaire est le 17\n"
     ]
    }
   ],
   "source": [
    "list1=[1, 3, 5, 7, 9, 11, 13, 15, 17, 19, 21, 23, 25, 27, 29, 31]\n",
    "list2=[2, 3, 6, 7, 10, 11, 14, 15, 18, 19, 22, 23, 26, 27, 30, 31]\n",
    "list3=[4, 5, 6, 7, 12, 13, 14, 15, 20, 21, 22, 23, 28, 29, 30, 31]\n",
    "list4=[8, 9, 10, 11, 12, 13, 14, 15, 24, 25, 26, 27, 28, 29, 30, 31]\n",
    "list5=[16, 17, 18, 19, 20, 21, 22, 23, 24, 25, 26, 27, 28, 29, 30, 31]\n",
    "print(list1, list2, list3, list4, list5)\n",
    "sum=0\n",
    "n1=str(input(\"Ton jour de naissance est-il compris dans la liste1? (répondre par 'oui' ou 'non')\"))\n",
    "if n1=='oui':\n",
    "    sum=list1[0]\n",
    "n2=str(input(\"Ton jour de naissance est-il compris dans la liste2?, (répondre par 'oui' ou 'non')\"))\n",
    "if n2 =='oui':\n",
    "    sum+=list2[0]\n",
    "n3=str(input(\"Ton jour de naissance est-il compris dans la liste3?, (répondre par 'oui' ou 'non')\"))\n",
    "if n3 =='oui': \n",
    "    sum+=list3[0]\n",
    "n4=str(input(\"Ton jour de naissance est-il compris dans la liste4?, (répondre par 'oui' ou 'non')\"))\n",
    "if n4 =='oui': \n",
    "    sum+=list4[0]\n",
    "n5=str(input(\"Ton jour de naissance est-il compris dans la liste5?, (répondre par 'oui' ou 'non')\"))\n",
    "if n5 =='oui':\n",
    "    sum+=list5[0]\n",
    "print(\"Le jour d'anniversaire est le\", sum)"
   ]
  },
  {
   "cell_type": "code",
   "execution_count": 92,
   "metadata": {},
   "outputs": [
    {
     "name": "stdout",
     "output_type": "stream",
     "text": [
      "17\n"
     ]
    }
   ],
   "source": [
    "#Correction:\n",
    "day=0\n",
    "question1=\"Is your birthday in set 1, 1 si oui, 2 si non\"\n",
    "answer=int(input(question1))\n",
    "if answer==1:\n",
    "    day+=1\n",
    "question2=\"Is your birthday in set 2, 1 si oui, 2 si non\"\n",
    "answer=int(input(question2))\n",
    "if answer==1:\n",
    "    day+=2\n",
    "question3=\"Is your birthday in set 3, 1 si oui, 2 si non\"\n",
    "answer=int(input(question3))\n",
    "if answer==1:\n",
    "    day+=4\n",
    "question4=\"Is your birthday in set 4, 1 si oui, 2 si non\"\n",
    "answer=int(input(question4))\n",
    "if answer==1:\n",
    "    day+=8\n",
    "question5=\"Is your birthday in set 5, 1 si oui, 2 si non\"\n",
    "answer=int(input(question5))\n",
    "if answer==1:\n",
    "    day+=16\n",
    "print(day)"
   ]
  },
  {
   "cell_type": "code",
   "execution_count": 96,
   "metadata": {},
   "outputs": [
    {
     "name": "stdout",
     "output_type": "stream",
     "text": [
      "17\n"
     ]
    }
   ],
   "source": [
    "#Correction:\n",
    "day=0\n",
    "values=[1,2,4,8,16]\n",
    "for i in range(1,6):\n",
    "    question=\"Is your birthday in set\"+str(i)+\"? si oui1, si 2 non\"\n",
    "    answer=int(input(question))\n",
    "    if answer==1:\n",
    "        day+=values[i-1]\n",
    "print(day)"
   ]
  },
  {
   "cell_type": "markdown",
   "metadata": {
    "slideshow": {
     "slide_type": "slide"
    }
   },
   "source": [
    "**Excercice 10:**\n",
    "\n",
    "Ecrire un programme qui permet de génèrer de manière aléatoire un nombre à deux chiffres, invite l'utilisateur à saisir un nombre à deux chiffres et détermine si l'utilisateur gagne selon les règles suivantes :\n",
    "* Si l'entrée de l'utilisateur correspond à la loterie (le nombre généré aléatoirement) dans l'ordre exact, la récompense est de 10 000€.\n",
    "* Sinon, si les deux chiffres entrés par l'utilisateur correspondent aux deux chiffres du numéro de loterie, la récompense est de 3 000€.\n",
    "* Sinon, si un chiffre dans l'entrée de l'utilisateur correspond à un chiffre dans le numéro de loterie, la récompense est de 1 000€.\n",
    "\n",
    "**Astuce :** Utiliser la fonction **random.randint(0, 99)** pour génèrer de manière aléatoire un nombre à deux chiffres. Cette fonction doit être accompagné par **import random** comme première instruction dans le code."
   ]
  },
  {
   "cell_type": "code",
   "execution_count": 70,
   "metadata": {
    "slideshow": {
     "slide_type": "notes"
    }
   },
   "outputs": [
    {
     "name": "stdout",
     "output_type": "stream",
     "text": [
      "81\n",
      "La récompense est de 3 000$\n"
     ]
    }
   ],
   "source": [
    "import random \n",
    "nombre_aleatoire=random.randint(10,99)\n",
    "print(nombre_aleatoire)\n",
    "unite=nombre_aleatoire%10\n",
    "dizaine=(nombre_aleatoire-unite)//10\n",
    "n=int(input(\"Choisir un nombre à 2 chiffres\"))\n",
    "unite_n=n%10\n",
    "dizaine_n=(n-unite_n)//10\n",
    "if n==nombre_aleatoire:\n",
    "    print(\"La récompense est de 10 000$\")\n",
    "elif n==unite*10+dizaine:\n",
    "    print(\"La récompense est de 3 000$\")\n",
    "elif dizaine_n==dizaine or dizaine_n==unite or unite_n==dizaine or unite_n==unite:\n",
    "    print(\"La récompense est de 1 000$\")\n",
    "else:\n",
    "    print(\"Le joueur a perdu\")\n",
    "\n"
   ]
  },
  {
   "cell_type": "code",
   "execution_count": 107,
   "metadata": {},
   "outputs": [
    {
     "name": "stdout",
     "output_type": "stream",
     "text": [
      "93\n",
      "0\n"
     ]
    }
   ],
   "source": [
    "#Correction\n",
    "import random\n",
    "a=random.randint(10,99)\n",
    "print(a)\n",
    "n=int(input(\"Select a number between 10 and 99\"))\n",
    "x=a//10\n",
    "y=a%10\n",
    "w=n//10\n",
    "z=n%10\n",
    "if a==n:\n",
    "    print(\"10000\")\n",
    "elif x==z and y==w:\n",
    "    print(\"3000\")\n",
    "elif x==w or y==w or y==z or x==z: \n",
    "    print(\"1000\")\n",
    "else : \n",
    "    print(\"0\")\n"
   ]
  },
  {
   "cell_type": "code",
   "execution_count": null,
   "metadata": {},
   "outputs": [],
   "source": [
    "\"\"\" a=xy\n",
    "    b=wz\n",
    "    y=a%10\n",
    "    x=a//10\n",
    "    z=b%10\n",
    "    w=b//10\"\"\""
   ]
  },
  {
   "cell_type": "markdown",
   "metadata": {},
   "source": [
    "**Exercice 11:**\n",
    "    \n",
    "Ecrire un programme qui permet de calculer la somme des chiffres d'un entier *n* donné. Le nombre *n* doit être compris entre 10 et 20 (bornes incluses)."
   ]
  },
  {
   "cell_type": "code",
   "execution_count": 162,
   "metadata": {},
   "outputs": [
    {
     "name": "stdout",
     "output_type": "stream",
     "text": [
      "12\n",
      "La somme est 3\n"
     ]
    }
   ],
   "source": [
    "import random\n",
    "nb_a=random.randint(10,20)\n",
    "print(nb_a)\n",
    "unite=nb_a%10\n",
    "dizaine=(nb_a-unite)//10\n",
    "print(\"La somme est\",dizaine+unite)"
   ]
  },
  {
   "cell_type": "code",
   "execution_count": 110,
   "metadata": {},
   "outputs": [
    {
     "name": "stdout",
     "output_type": "stream",
     "text": [
      "La somme des chiffres de n vaut 9\n"
     ]
    }
   ],
   "source": [
    "#Correction\n",
    "n=int(input(\"Select a number between 10 and 20\")) #choisir un nombre n compris entre 10 et 20 \n",
    "total=0 #création d'une variable \"vide\"\n",
    "while n!=0: #tant que le nombre choisi est différent de 0, faire : \n",
    "    total+=n%10 #ajouter dans la variable total l'unité du nombre n choisi\n",
    "    n=n//10 #n = quotient par 10 donc au chiffre des dizaines \n",
    "print(\"La somme des chiffres de n vaut\", total)\n",
    "    "
   ]
  },
  {
   "cell_type": "code",
   "execution_count": null,
   "metadata": {},
   "outputs": [],
   "source": [
    "\"\"\"Quelques fonctions qu'on peut utiliser: \n",
    "1) la fonction \"split\" \n",
    "text=\"aa, bb, cc\"\n",
    "l = text.split()\n",
    "2) la fonction in\n",
    "my_input= \"zoo\"\n",
    "if \"oo\" in my_input:\n",
    "    print(\"yes\")\n",
    "else:\n",
    "    print(\"no\") \n",
    "\"\"\""
   ]
  },
  {
   "cell_type": "code",
   "execution_count": 111,
   "metadata": {},
   "outputs": [
    {
     "name": "stdout",
     "output_type": "stream",
     "text": [
      "3\n"
     ]
    }
   ],
   "source": [
    "#Exemple\n",
    "text=\"aa, bb, cc\"\n",
    "l=text.split() #par défaut c'est les espaces\n",
    "print(len(l))"
   ]
  },
  {
   "cell_type": "markdown",
   "metadata": {},
   "source": [
    "**Exercice 12:**\n",
    "\n",
    "1. Ecrire un programme qui permet de générer aléatoirement deux nombres entre 0 et 9, de calculer leurs différences (en valeur absolue), puis d'inviter l'utilisateur à répondre à la question suivante *que vaut abs(number1 - number2)?*. Le programme doit permettre à l'utilisateur de répondre plusieurs fois jusqu'à la saisie de la bonne réponse.\n",
    "2. Modifier le programme précédent de telle sorte qu'il génère cinq occurences à la suite invitant à répondre à la question précédente. A la fin, le programme affiche le nombre moyen de tentatives qu'il a fallu à l'utilisateur pour répondre à une question."
   ]
  },
  {
   "cell_type": "code",
   "execution_count": 191,
   "metadata": {
    "tags": []
   },
   "outputs": [
    {
     "name": "stdout",
     "output_type": "stream",
     "text": [
      "a= 2\n",
      "b= 3\n",
      "a-b= 2 - 3\n"
     ]
    }
   ],
   "source": [
    "#Question 1:\n",
    "import random\n",
    "a=random.randint(0,9)\n",
    "print(\"a=\",a)\n",
    "b=random.randint(0,9)\n",
    "print(\"b=\",b)\n",
    "c=abs(a-b)\n",
    "print(\"a-b=\",a,\"-\",b)\n",
    "n=int(input(\"Que vaut la valeur de a-b?\"))\n",
    "while n!=c:\n",
    "    n=int(input(\"Recommencer\"))"
   ]
  },
  {
   "cell_type": "code",
   "execution_count": 116,
   "metadata": {
    "tags": []
   },
   "outputs": [
    {
     "name": "stdout",
     "output_type": "stream",
     "text": [
      "a= 8\n",
      "b= 8\n",
      "a-b= 8 - 8\n",
      "a= 3\n",
      "b= 5\n",
      "a-b= 3 - 5\n",
      "a= 9\n",
      "b= 0\n",
      "a-b= 9 - 0\n",
      "a= 8\n",
      "b= 2\n",
      "a-b= 8 - 2\n",
      "a= 1\n",
      "b= 1\n",
      "a-b= 1 - 1\n",
      "Le taux de bonnes réponses est: 120.0 %\n"
     ]
    }
   ],
   "source": [
    "#Question 2:\n",
    "import random\n",
    "nb_reponse=0\n",
    "for i in range(1,6):\n",
    "    a=random.randint(0,9)\n",
    "    print(\"a=\",a)\n",
    "    b=random.randint(0,9)\n",
    "    print(\"b=\",b)\n",
    "    c=abs(a-b)\n",
    "    print(\"a-b=\",a,\"-\",b)\n",
    "    n=int(input(\"Que vaut la valeur de a-b?\"))\n",
    "    nb_reponse+=1\n",
    "    while n!=c:\n",
    "        n=int(input(\"Recommencer\"))\n",
    "        nb_reponse+=1\n",
    "print(\"Le taux de bonnes réponses est:\", (5/nb_reponse)*100,\"%\")\n"
   ]
  },
  {
   "cell_type": "markdown",
   "metadata": {},
   "source": [
    "**Exercice 13:**\n",
    "\n",
    "Ecrire un programme qui permet de calculer le nombre de mots dans une phrase saisie par l'utilisateur."
   ]
  },
  {
   "cell_type": "code",
   "execution_count": 17,
   "metadata": {
    "tags": []
   },
   "outputs": [
    {
     "name": "stdout",
     "output_type": "stream",
     "text": [
      "Le nombre de mot est 2\n"
     ]
    }
   ],
   "source": [
    " mot=str(input(\"Ecrire une phrase\"))\n",
    " n=len(mot)\n",
    " nb=0\n",
    " for i in range(0,n):\n",
    "    if mot[i]==\" \":\n",
    "         nb+=1\n",
    " print(\"Le nombre de mot est\", nb+1)"
   ]
  },
  {
   "cell_type": "code",
   "execution_count": 114,
   "metadata": {},
   "outputs": [
    {
     "name": "stdout",
     "output_type": "stream",
     "text": [
      "4\n"
     ]
    }
   ],
   "source": [
    "#Correction\n",
    "text=str(input(\"Ecrire phrase\"))\n",
    "l=text.split()\n",
    "print(len(l))"
   ]
  },
  {
   "cell_type": "markdown",
   "metadata": {
    "slideshow": {
     "slide_type": "slide"
    }
   },
   "source": [
    "---\n",
    "\n",
    "## 4. Pour s'entraîner\n",
    "\n",
    "**Exercice 14:**\n",
    "    \n",
    "Soit la variable my_input = \"zoophysiology\". Ecrire un script qui permet d'afficher l'un des messages suivants en fonction du nombre maximum de *o* consécutifs dans la variable *my_input*. Par exemple, le script doit afficher \"I like studying birds! I want to become an ornithologist!\" parce qu'il y a deux *o* consécutifs, même s'il y a aussi des *o* individual.\n",
    "Ignorer les *o* majuscules - recherchez que les *o* minuscules.\n",
    "\n",
    "* Si \"o\" apparaît trois fois ou plus de suite, afficher le message \"I like going to the zoo!\"  \n",
    "* Si \"o\" apparaît deux fois, afficher le message \"I like studying birds! I want to become an ornithologist!\"  \n",
    "* Si \"o\" apparaît une seule fois, afficher le message \"I like studying fish! I want to become an ichthyologist!\"  \n",
    "* Si \"o\" n'apparaît pas dans la variable *my_input*, afficher le message \"I miss going to the zoo!\"  \n",
    "\n",
    "**Astuce :** Utiliser l'opérateur **in** qui renvoie **True** si la première chaîne se trouve dans la deuxième chaîne. "
   ]
  },
  {
   "cell_type": "code",
   "execution_count": 66,
   "metadata": {
    "slideshow": {
     "slide_type": "notes"
    }
   },
   "outputs": [
    {
     "name": "stdout",
     "output_type": "stream",
     "text": [
      "I like studying birds! I want to become an ornithologist!\n"
     ]
    }
   ],
   "source": [
    "my_input=\"zoophysiology\"\n",
    "n=len(my_input)\n",
    "nb=0\n",
    "if 3*\"o\" in my_input:\n",
    "    print(\"I like going to the zoo!\")\n",
    "elif 2*\"o\" in my_input:\n",
    "    print(\"I like studying birds! I want to become an ornithologist!\")\n",
    "elif \"o\" in my_input:\n",
    "    print(\"I like sudying fish! I want to become an ichthyologist!\")\n",
    "else:\n",
    "    print(\"I miss going to the zoo!\")"
   ]
  },
  {
   "cell_type": "markdown",
   "metadata": {
    "slideshow": {
     "slide_type": "slide"
    }
   },
   "source": [
    "**Exercice 15:**\n",
    "    \n",
    "Créer quatre variables nommées *team_1* et *team_2*, représentant deux noms d'équipes, et *team_1_score* et *team_2_score*, représentant les scores de ces deux équipes. \n",
    "Une équipe gagne si son score est supérieur à l'autre score de l'autre équipe.\n",
    " \n",
    "Ecrire un premier script qui permet d'afficher les messages suivants selon les valeurs entrées, ceci en utilisant seulement les quatres variables créées :\n",
    "* Si une équipe bat l'autre, affichez: \"\\[winner\\] beat \\[loser\\] by \\[margin\\]\"\n",
    "* Si aucune des équipes n'a gagné, affichez: \"\\[team_1\\] played \\[team_2\\] and it was a tie\"\n",
    "\n",
    "Ecrire un deuxième script qui permet d'afficher les mêmes messages mais en ajoutant trois variables de plus :\n",
    "* La variable *winner* pour définir l'équipe gagnante  \n",
    "* La variable *loser* pour définier l'équipe perdante  \n",
    "* La variable *margin* pour définir la différence entre les deux scores \n"
   ]
  },
  {
   "cell_type": "code",
   "execution_count": 89,
   "metadata": {
    "slideshow": {
     "slide_type": "notes"
    }
   },
   "outputs": [
    {
     "name": "stdout",
     "output_type": "stream",
     "text": [
      "Première équipe played Deuxième équipe by margin 1\n"
     ]
    }
   ],
   "source": [
    "#Question 1 :\n",
    "team_1=\"Première équipe\"\n",
    "team_2=\"Deuxième équipe\"\n",
    "team1_score=int(input(\"Choisir un score pour l'équipe 1\"))\n",
    "team2_score=int(input(\"Choisir un score pour l'équipe2\"))\n",
    "if team1_score!=team2_score:\n",
    "    if team1_score>team2_score:\n",
    "        print(team_1,\"played\",team_2,\"by margin\", team1_score-team2_score)\n",
    "    else:\n",
    "        print(team_2, \"played\",team_1,\"by margin\", team2_score-team1_score)\n",
    "else:\n",
    "    print(team_1, \"played\", team_2, \"and it was a tie\")"
   ]
  },
  {
   "cell_type": "code",
   "execution_count": null,
   "metadata": {
    "slideshow": {
     "slide_type": "notes"
    }
   },
   "outputs": [
    {
     "name": "stdout",
     "output_type": "stream",
     "text": [
      "Première équipe played Deuxième équipe by margin 2\n"
     ]
    }
   ],
   "source": [
    "#Question 2 :\n",
    "team_1=\"Première équipe\"\n",
    "team_2=\"Deuxième équipe\"\n",
    "team1_score=int(input(\"Choisir un score pour l'équipe 1\"))\n",
    "team2_score=int(input(\"Choisir un score pour l'équipe2\"))\n",
    "winner=\"Equipe gagnante\"\n",
    "loser=\"Equipe perdante\"\n",
    "margin=0\n",
    "if team1_score!=team2_score:\n",
    "    if team1_score>team2_score:\n",
    "        winner=team_1\n",
    "        loser=team_2\n",
    "        margin=team1_score-team2_score\n",
    "        print(winner,\"played\",loser,\"by margin\", margin)\n",
    "    else:\n",
    "        winner=team_2\n",
    "        loser=team_1\n",
    "        margin=team2_score-team1_score\n",
    "        print(winner, \"played\",loser,\"by margin\", margin)\n",
    "else:\n",
    "    print(team_1, \"played\", team_2, \"and it was a tie\")"
   ]
  },
  {
   "cell_type": "markdown",
   "metadata": {
    "slideshow": {
     "slide_type": "slide"
    }
   },
   "source": [
    "**Exercice 16:**\n",
    "    \n",
    "L'Indice de Masse Corporelle (IMC) permet d'estimer le poids idéal en fonction de la taille. Son calcul correspond au poids en kilogrammes divisé par le carré de la taille en mètre (IMC = poids en kg/taille² en m). Le chiffre obtenu permet d'estimer la corpulence et éventuellement le surpoids ou l'obésité chez l'adulte, homme ou femme.\n",
    "L'interprétation de l'IMC pour les personnes de 16 ans et plus est la suivante :\n",
    "* Moins de 18.5: Underweight\n",
    "* Entre 18.5 et 24.9: Normal\n",
    "* Entre 25.0 et 29.9: Overweight\n",
    "* Plus que 30.0: Obese\n",
    "\n",
    "Ecrire un programme qui permet de saisir un poids en *pounds* et une taille en *inches*, de calculer et d'afficher l'IMC à deux valeurs après la virgule, et d'afficher l'interprétation la plus adéquate. Notez qu'un *pound* équivaut à 0,45359237 kilogrammes et qu'un *inch* équivaut à 0,0254 mètre.  \n",
    "\n",
    "**Astuce :** Pour afficher deux valeurs après la virgule, utilisez la fonction **format(nom_variable, \".2f\")**. Exemple : **print('La moyenne est :', format(moyenne, \".2f\"))**"
   ]
  },
  {
   "cell_type": "code",
   "execution_count": null,
   "metadata": {
    "slideshow": {
     "slide_type": "notes"
    }
   },
   "outputs": [
    {
     "name": "stdout",
     "output_type": "stream",
     "text": [
      "15.68 underweihgt\n"
     ]
    }
   ],
   "source": [
    "p=float(input(\"Saisir son poids en pounds\"))\n",
    "t=float(input(\"Saisir sa taille en inches\"))\n",
    "IMC=(p*0.45359237)/((t*0.0254)**2)\n",
    "if IMC<18.5:\n",
    "    print(format(IMC,\".2f\"),\"underweihgt\")\n",
    "elif IMC>= 18.5 and IMC <= 24.9:\n",
    "    print(format(IMC,\".2f\"),\"Normal\")\n",
    "elif IMC >= 25 and IMC <= 29.9:\n",
    "    print(format(IMC,\".2f\"),\"Overweight\")\n",
    "else:\n",
    "    print(format(IMC,\".2f\"),\"Obese\")\n"
   ]
  },
  {
   "cell_type": "markdown",
   "metadata": {},
   "source": [
    "**Exercice 17:**\n",
    "\n",
    "Ecrire un programme qui affiche un triangle d'étoiles de taille donnée, par exemple si on entre 6, le programme affiche:\n",
    "```\n",
    "*\n",
    "**\n",
    "***\n",
    "****\n",
    "*****\n",
    "******\n",
    "```"
   ]
  },
  {
   "cell_type": "code",
   "execution_count": null,
   "metadata": {
    "tags": []
   },
   "outputs": [
    {
     "name": "stdout",
     "output_type": "stream",
     "text": [
      "*\n",
      "**\n",
      "***\n",
      "****\n",
      "*****\n",
      "******\n"
     ]
    }
   ],
   "source": [
    "n=int(input(\"Saisir un entier naturel positif\"))\n",
    "for i in range(1,n+1):\n",
    "    print(\"*\"*i)"
   ]
  },
  {
   "cell_type": "markdown",
   "metadata": {},
   "source": [
    "**Exercice 18:**\n",
    "\n",
    "Même exercice mais cette fois la sortie est\n",
    "```\n",
    "     *\n",
    "    **         \n",
    "   ***\n",
    "  ****\n",
    " *****\n",
    "******\n",
    "```"
   ]
  },
  {
   "cell_type": "code",
   "execution_count": null,
   "metadata": {
    "tags": []
   },
   "outputs": [
    {
     "name": "stdout",
     "output_type": "stream",
     "text": [
      "      *\n",
      "     **\n",
      "    ***\n",
      "   ****\n",
      "  *****\n",
      " ******\n"
     ]
    }
   ],
   "source": [
    "n=int(input(\"Saisir un entier naturel positif\"))\n",
    "for i in range(1,n+1):\n",
    "    print(\" \"*(n-i),\"*\"*i)"
   ]
  },
  {
   "cell_type": "markdown",
   "metadata": {},
   "source": [
    "**Exercice 19:**\n",
    "\n",
    "Ecrire un programme qui calcule, étant donné un entier *n* rentré par l'utilisateur, la plus grande puissance de *n* inférieure à un million."
   ]
  },
  {
   "cell_type": "code",
   "execution_count": null,
   "metadata": {
    "tags": []
   },
   "outputs": [
    {
     "name": "stdout",
     "output_type": "stream",
     "text": [
      "La plus grande puissance est 12\n"
     ]
    }
   ],
   "source": [
    "n=int(input(\"Saisir un entier n\"))\n",
    "i=0\n",
    "while n**i<1000000:\n",
    "    i+=1\n",
    "print(\"La plus grande puissance est\",i-1) \n"
   ]
  }
 ],
 "metadata": {
  "celltoolbar": "Diaporama",
  "interpreter": {
   "hash": "502e34990598845fd1f375c6239805dd851073fb5802a3a64b7e231c5d380596"
  },
  "kernelspec": {
   "display_name": "Python 3.9.5 64-bit ('base': conda)",
   "name": "python3"
  },
  "language_info": {
   "codemirror_mode": {
    "name": "ipython",
    "version": 3
   },
   "file_extension": ".py",
   "mimetype": "text/x-python",
   "name": "python",
   "nbconvert_exporter": "python",
   "pygments_lexer": "ipython3",
   "version": "3.9.5"
  }
 },
 "nbformat": 4,
 "nbformat_minor": 4
}
