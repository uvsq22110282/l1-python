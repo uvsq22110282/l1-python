{
 "cells": [
  {
   "cell_type": "markdown",
   "metadata": {},
   "source": [
    "# Instructions Générales\n",
    "\n",
    "Ce TD est à faire en créant un fichier td3.py, que vous éditerez dans VSCode. \n",
    "Vous ne remplirez pas les cellules de ce notebook, mais vous les copierez au fur et à mesure \n",
    "dans votre fichier pour les compléter.\n",
    "\n",
    "Vous respecterez au mieux les règles d'écriture de code, en particulier chaque fonction devra avoir un **docstring** et des commentaires si nécessaire et les noms de variable seront illustratifs de leur usage. Vous utiliserez les outils de débogage (flake8, mypy, debugger, pythontutor ...) pour corriger vos bogues."
   ]
  },
  {
   "cell_type": "markdown",
   "metadata": {},
   "source": [
    "# Gestion du temps\n",
    "\n",
    "Nous allons créer un petit logiciel de gestion du temps et des dates.\n",
    "Pour cela nous aurons besoin de créer un certain nombre de fonctions utilitaires.\n",
    "\n",
    "Un temps a le format suivant: (jour: int, heure: int, minute: int, seconde: int).\n",
    "C'est un tuple de 4 éléments. Par exemple (4, 3, 13, 20) correspond à 4 jours, 3 heures, 13 minutes et 20 secondes.\n",
    "Si on a une variable temps = (4, 3, 13, 20), pour accéder au premier élément on fait temps\\[0\\] ce qui donne 4,\n",
    "le nombre de jours.\n",
    "\n",
    "Créer la fonction qui prend comme argument le temps et renvoie le nombre de seconde total correspondant à ce temps.\n",
    "Créer la fonction qui prend un nombre de secondes et renvoie le temps correspondant."
   ]
  },
  {
   "cell_type": "code",
   "execution_count": 7,
   "metadata": {},
   "outputs": [
    {
     "name": "stdout",
     "output_type": "stream",
     "text": [
      "<class 'tuple'>\n",
      "342094 s\n",
      "1 jours 3 heures 46 minutes 40 secondes\n"
     ]
    }
   ],
   "source": [
    "#temps[0] : jours, temps[1]: heures, temps[2]: minutes, temps[3]: secondes\n",
    "\n",
    "def tempsEnSeconde(temps):\n",
    "    \"\"\" Renvoie la valeur en seconde de temps donné comme jour, heure, minute, seconde.\"\"\"\n",
    "    x=temps[0]*24*3600+temps[1]*3600+temps[2]*60+temps[3]\n",
    "    return x\n",
    "\n",
    "temps = (3,23,1,34)\n",
    "print(type(temps))\n",
    "print(tempsEnSeconde(temps),\"s\")   \n",
    "\n",
    "def secondeEnTemps(seconde):\n",
    "    \"\"\"Renvoie le temps (jour, heure, minute, seconde) qui correspond au nombre de seconde passé en argument\"\"\"\n",
    "    j=seconde//(24*3600)\n",
    "    h=seconde%(24*3600)//3600\n",
    "    m=seconde%(24*3600)%3600//60\n",
    "    s=seconde%(24*3600)%3600%60\n",
    "    tupl=(j,h,m,s)\n",
    "    return tupl\n",
    "    \n",
    "temps = secondeEnTemps(100000)\n",
    "print(temps[0],\"jours\",temps[1],\"heures\",temps[2],\"minutes\",temps[3],\"secondes\")\n"
   ]
  },
  {
   "cell_type": "markdown",
   "metadata": {},
   "source": [
    "Créer une fonction d'affichage d'un temps `afficheTemps`. Attention, les mots jour, heure et seconde doivent être au pluriel s'il y en a plusieurs. S'il y en a zéro, ils ne doivent pas apparaître.\n",
    "`print(message, end=\"\")` permet de ne pas sauter une ligne après un print. \n",
    "Vous pouvez écrire une fonction qui affiche un mot au pluriel ou non, appelée ensuite plusieurs fois par `afficheTemps` pour simplifier votre code.\n"
   ]
  },
  {
   "cell_type": "code",
   "execution_count": 8,
   "metadata": {},
   "outputs": [
    {
     "name": "stdout",
     "output_type": "stream",
     "text": [
      "1 jour  14 minutes  23 secondes\n"
     ]
    }
   ],
   "source": [
    "#fonction auxiliaire ici\n",
    "\n",
    "def afficheTemps(temps):\n",
    "    if temps[0]>0 and temps[0] != 1:\n",
    "        print(temps[0],\"jours\",end='')\n",
    "    elif temps[0] == 1: \n",
    "        print(temps[0],\"jour\",end='')\n",
    "    if temps[1]>0 and temps[1] != 1:\n",
    "        print(\" \",temps[1],\"heures\",end='')\n",
    "    elif temps[1] == 1: \n",
    "        print(\" \",temps[1],\"heure\",end='')\n",
    "    if temps[2]>0 and temps[2] != 1:\n",
    "        print(\" \",temps[2],\"minutes\",end='')\n",
    "    elif temps[2] == 1:\n",
    "         print(\" \",temps[2],\"minute\",end='')\n",
    "    if temps[3]>0 and temps[3] != 1:\n",
    "        print(\" \",temps[3],\"secondes\")\n",
    "    elif temps[3] == 1: \n",
    "        print(\" \",temps[3],\"seconde\")\n",
    "afficheTemps((1,0,14,23))    "
   ]
  },
  {
   "cell_type": "markdown",
   "metadata": {},
   "source": [
    "Ecrire une fonction qui demande à l'utilisateur de rentrer un nombre de jours, d'heures, de minutes et\n",
    "de secondes et qui renvoie un temps. Attention, si l'entrée utilisateur n'est pas correcte, par exemple 80 minutes,\n",
    "afficher un message d'erreur et s'arrêter.\n",
    "\n",
    "(Optionnel) Au lieu d'arêter le programme, demander de rentrer une nouvelle valeur, tant que \n",
    "ce n'est pas une valeur correcte."
   ]
  },
  {
   "cell_type": "code",
   "execution_count": 9,
   "metadata": {},
   "outputs": [
    {
     "name": "stdout",
     "output_type": "stream",
     "text": [
      "24 jours  3 heures  4 minutes  5 secondes\n"
     ]
    }
   ],
   "source": [
    "def demandeTempss():\n",
    "    tu=(int(input(\"Saisir un nombre de jours\")),int(input(\"Saisir un nombre de jours\")),int(input(\"Saisir un nombre de jours\")),int(input(\"Saisir un nombre de jours\")))\n",
    "    \n",
    "    if tu[1]>=24 or tu[2]>=60 or tu[3]>=60:\n",
    "        print(\"erreur de saisie\")\n",
    "        return (0,0,0,0)\n",
    "    else: \n",
    "        return tu\n",
    "\n",
    "\n",
    "def demandeTemps():\n",
    "    j=int(input(\"Saisir un nombre de jours\"))\n",
    "    h=int(input(\"Saisir un nombre d'heures\"))\n",
    "    m=int(input(\"Saisir un nombre de minutes\"))\n",
    "    s=int(input(\"Saisir un nombre de secondes\"))\n",
    "    if h>=24 or m>=60 or s>=60:\n",
    "        print(\"erreur de saisie\")\n",
    "        return (0,0,0,0)\n",
    "    else: \n",
    "        tu=(j,h,m,s)\n",
    "        return tu\n",
    "\n",
    "afficheTemps(demandeTempss())"
   ]
  },
  {
   "cell_type": "code",
   "execution_count": null,
   "metadata": {},
   "outputs": [],
   "source": [
    "'''t=(4,0,1,34)\n",
    "afficheTemps(t)\n",
    "def afficheTemps(y): #y=(4,0,1,34)\n",
    "    affichePlu(y[0],\"jour\") #(4, \"jour\")\n",
    "    affichePlu(y[1],\"heure\")\n",
    "    affichePlu(y[2],\"minute\")\n",
    "    affichePlu(y[3],\"seconde\")\n",
    "def affichePLu(val,mot): #val = 4 & mot = jour\n",
    "    if val!=0:\n",
    "        print(val, mot, end=\"\")\n",
    "    il val > 1:\n",
    "    print\"s\", end=\"\"'''"
   ]
  },
  {
   "cell_type": "markdown",
   "metadata": {},
   "source": [
    "On veut être capable d'additionner deux temps. Donner une fonction qui fait ce calcul,\n",
    "en utilisant les fonctions précédentes."
   ]
  },
  {
   "cell_type": "code",
   "execution_count": 10,
   "metadata": {},
   "outputs": [
    {
     "data": {
      "text/plain": [
       "(8, 2, 1, 26)"
      ]
     },
     "execution_count": 10,
     "metadata": {},
     "output_type": "execute_result"
    }
   ],
   "source": [
    "def sommeTemps(temps1,temps2):\n",
    "    j=temps1[0]+temps2[0]\n",
    "    h=temps1[1]+temps2[1]\n",
    "    m=temps1[2]+temps2[2]\n",
    "    s=temps1[3]+temps2[3]\n",
    "    tu=(j,h,m,s)\n",
    "    tu=tempsEnSeconde(tu)\n",
    "    tu=secondeEnTemps(tu)\n",
    "    return tu\n",
    "\n",
    "sommeTemps((2,3,4,25),(5,22,57,1))"
   ]
  },
  {
   "cell_type": "code",
   "execution_count": 11,
   "metadata": {},
   "outputs": [
    {
     "name": "stdout",
     "output_type": "stream",
     "text": [
      "(8, 2, 1, 26)\n"
     ]
    }
   ],
   "source": [
    "def sommeTemps(temps1,temps2):\n",
    "    j=temps1[0]+temps2[0]\n",
    "    h=temps1[1]+temps2[1]\n",
    "    m=temps1[2]+temps2[2]\n",
    "    s=temps1[3]+temps2[3]\n",
    "    tu=(j,h,m,s)\n",
    "    return tu\n",
    "\n",
    "print(secondeEnTemps(tempsEnSeconde(sommeTemps((2,3,4,25),(5,22,57,1)))))"
   ]
  },
  {
   "cell_type": "code",
   "execution_count": 14,
   "metadata": {},
   "outputs": [
    {
     "name": "stdout",
     "output_type": "stream",
     "text": [
      "(8, 2, 1, 26)\n"
     ]
    }
   ],
   "source": [
    "def sommeTemps(temps1,temps2):\n",
    "    t=tempsEnSeconde(temps1)+tempsEnSeconde(temps2)\n",
    "    t=secondeEnTemps(t)\n",
    "    return t\n",
    "\n",
    "print(sommeTemps((2,3,4,25),(5,22,57,1)))"
   ]
  },
  {
   "cell_type": "markdown",
   "metadata": {},
   "source": [
    "On veut maintenant calculer un pourcentage d'un temps. Par exemple, 20% de\n",
    "2 jours et 36 minutes correspond à 9 heures, 43 minutes et 12 secondes.\n",
    "\n",
    "Implémenter la fonction `proportionTemps` puis appeler cette fonction en échangeant l'ordre des arguments mais en les nommant."
   ]
  },
  {
   "cell_type": "code",
   "execution_count": 99,
   "metadata": {},
   "outputs": [
    {
     "name": "stdout",
     "output_type": "stream",
     "text": [
      "  9 heures  43 minutes  12 secondes\n",
      "  9 heures  43 minutes  12 secondes\n"
     ]
    }
   ],
   "source": [
    "def proportionTemps(temps,proportion):\n",
    "    j=temps[0]*proportion\n",
    "    h=temps[1]*proportion\n",
    "    m=temps[2]*proportion\n",
    "    s=temps[3]*proportion\n",
    "    tu=(j,h,m,s)\n",
    "    tu=tempsEnSeconde(tu)\n",
    "    tu=secondeEnTemps(tu)\n",
    "    return (int(tu[0]), int(tu[1]), int(tu[2]), int(tu[3]))\n",
    "\n",
    "afficheTemps(proportionTemps((2,0,36,0),0.2))\n",
    "#Echanger l'ordre des arguments\n",
    "afficheTemps(proportionTemps(proportion=0.2,temps=(2,0,36,0)))"
   ]
  },
  {
   "cell_type": "code",
   "execution_count": null,
   "metadata": {},
   "outputs": [],
   "source": [
    "\"\"\" input fonction output\n",
    "tuple -> tempsEnSeconde -> int\n",
    "int -> SecondeEnTemps -> tuple\n",
    "tuple -> afficheTemps -> X\n",
    "X -> demandeTemps -> tuple\n",
    "tuple,tuple -> SommeTemps -> tuple\n",
    "tuple+float -> proportionTemps -> tuple\"\"\""
   ]
  },
  {
   "cell_type": "markdown",
   "metadata": {},
   "source": [
    "On veut maintenant afficher un temps sous forme de date, en supposant \n",
    "que le temps 0 est le 1 janvier 1970 à 00:00:00.\n",
    "\n",
    "* Implémenter une fonction `tempsEnDate`qui donne la date sous la forme (année, jour, heure, minute, seconde).\n",
    "* Implémenter la fonction `afficheDate`qui affiche la date. \n",
    "* (Optionnel) Gérer également les mois."
   ]
  },
  {
   "cell_type": "code",
   "execution_count": 29,
   "metadata": {},
   "outputs": [
    {
     "name": "stdout",
     "output_type": "stream",
     "text": [
      "(2001.0, 259, 1, 46, 40)\n",
      "11574 jours  1 heure  46 minutes  40 secondes\n",
      "2001.0 années 259 jours  1 heure  46 minutes  40 secondes\n"
     ]
    }
   ],
   "source": [
    "def tempsEnDate(temps):\n",
    "    a=temps[0]//365.25 + 1970\n",
    "    j=temps[0]%365\n",
    "    h=temps[1]\n",
    "    m=temps[2]\n",
    "    s=temps[3]\n",
    "    d=(a,j,h,m,s)\n",
    "    return d\n",
    "\n",
    "print(tempsEnDate(temps))\n",
    "\n",
    "def afficheDate(date = (0,0,0,0,0)):\n",
    "    print(date[0], \"années\",end=\" \")\n",
    "    afficheTemps((date[1],date[2],date[3],date[4])) #afficher l'heure, les minutes & les secondes\n",
    "    \n",
    "temps = secondeEnTemps(1000000000)\n",
    "afficheTemps(temps)\n",
    "t=tempsEnDate(temps)\n",
    "afficheDate(t)"
   ]
  },
  {
   "cell_type": "markdown",
   "metadata": {},
   "source": [
    "Il existe des fonctions dans la librairie `time` pour la gestion du temps. En particulier, il existe\n",
    "une fonction `time` qui donne le temps écoulé depuis 1970 en secondes. \n",
    "La trouver avec la [documentation python](https://docs.python.org/fr/3/library/time.html#module-time) et la tester en utilisant `afficheDate`. \n",
    "Tester de la même manière la fonction `time.gmtime` qui réalise une tâche similaire à `tempsEnDate`.\n",
    "Que constatez vous ?"
   ]
  },
  {
   "cell_type": "code",
   "execution_count": 33,
   "metadata": {},
   "outputs": [
    {
     "data": {
      "text/plain": [
       "time.struct_time(tm_year=1970, tm_mon=1, tm_mday=1, tm_hour=0, tm_min=0, tm_sec=0, tm_wday=3, tm_yday=1, tm_isdst=0)"
      ]
     },
     "execution_count": 33,
     "metadata": {},
     "output_type": "execute_result"
    }
   ],
   "source": [
    "import time \n",
    "time.gmtime(0)"
   ]
  },
  {
   "cell_type": "markdown",
   "metadata": {},
   "source": [
    "Attention, tous les 4 ans les années sont bisextiles (un jour de plus) sauf les multiples de 100 qui ne sont pas des multiples de 400.\n",
    "Donner un code qui prend un nombre de jours et affiche toutes les années bisextiles depuis 1 janvier 2020 à 00:00:00 jusqu'à la fin de ces jours."
   ]
  },
  {
   "cell_type": "code",
   "execution_count": 41,
   "metadata": {},
   "outputs": [
    {
     "name": "stdout",
     "output_type": "stream",
     "text": [
      "1972\n",
      "1976\n",
      "1980\n",
      "1984\n",
      "1988\n",
      "1992\n",
      "1996\n",
      "2000\n",
      "2004\n",
      "2008\n",
      "2012\n",
      "2016\n",
      "2020\n",
      "2024\n"
     ]
    }
   ],
   "source": [
    "def bisextile(jour):\n",
    "    annee=1970\n",
    "\n",
    "    while jour>0:\n",
    "        if annee%4==0 or (annee%100==0 and annee%400!=0):\n",
    "            print(annee)\n",
    "            jour-=366\n",
    "        else:\n",
    "            jour-=365\n",
    "        annee+=1\n",
    "\n",
    "        \n",
    "bisextile(20000)"
   ]
  },
  {
   "cell_type": "markdown",
   "metadata": {},
   "source": [
    "Implémenter une fonction `nombreBisextile` qui calcule le nombre d'années bisextiles pour un nombre de jour donnés pour corriger votre fonction de calcul de la date."
   ]
  },
  {
   "cell_type": "code",
   "execution_count": 68,
   "metadata": {},
   "outputs": [
    {
     "name": "stdout",
     "output_type": "stream",
     "text": [
      "11574 jours  1 heure  46 minutes  40 secondes\n",
      "2001.0 années 251 jours  1 heure  46 minutes  40 secondes\n"
     ]
    }
   ],
   "source": [
    "def nombreBisextile(jour):\n",
    "    annee=1970\n",
    "    c=0\n",
    "    while jour>0:\n",
    "        if annee%4==0 or (annee%100==0 and annee%400!=0):\n",
    "            jour-=366\n",
    "            c+=1\n",
    "        else:\n",
    "            jour-=365\n",
    "        annee+=1\n",
    "    return c\n",
    "\n",
    "def tempsEnDateBisextile(temps):\n",
    "    nb=nombreBisextile(temps[0])\n",
    "    return tempsEnDate((temps[0]-nb,temps[1],temps[2],temps[3]))\n",
    "    \n",
    "   \n",
    "temps = secondeEnTemps(1000000000)\n",
    "nombreBisextile(20000)\n",
    "afficheTemps(temps)\n",
    "afficheDate(tempsEnDateBisextile(temps))"
   ]
  },
  {
   "cell_type": "markdown",
   "metadata": {},
   "source": [
    "Ajouter des valeurs par défaut dans le code de `afficheDate` afin de pouvoir ommettre\n",
    "l'argument de ces fonctions. Dans ce cas là, on affichera la date actuelle en utilisant la fonction `time`."
   ]
  },
  {
   "cell_type": "markdown",
   "metadata": {},
   "source": [
    "On va maintenant inspecter notre code pour améliorer sa qualité:\n",
    "\n",
    "* Regarder tous les warnings donnés par flake8 et essayer de les régler.\n",
    "* Utiliser le debugger (F5) pour étudier le fonctionnement de votre fonction nombreBisextile.\n",
    "* Mettre les annotations de type des arguments et du retour de la fonction pour nombreBisextile et une autre fonction de votre choix. Vérifier avec mypy que tout fonctionne bien."
   ]
  },
  {
   "cell_type": "markdown",
   "metadata": {},
   "source": [
    "Donner une fonction qui vérifie la charge horaire d'un employé, donnée sous forme d'une liste de temps travaillé chaque semaine dans un mois. Il ne faut pas dépasser 48h par semaine et 140h par mois (qu'on considère ici de 4 semaines).\n",
    "\n",
    "(Optionnel) S'adapter à une liste qui peut contenir plusieurs mois."
   ]
  },
  {
   "cell_type": "code",
   "execution_count": 86,
   "metadata": {},
   "outputs": [
    {
     "name": "stdout",
     "output_type": "stream",
     "text": [
      "Charge horaire respectée\n"
     ]
    },
    {
     "data": {
      "text/plain": [
       "88"
      ]
     },
     "execution_count": 86,
     "metadata": {},
     "output_type": "execute_result"
    }
   ],
   "source": [
    "def verifie(liste_temps):\n",
    "    horaire=tempsEnSeconde(liste_temps[0])+tempsEnSeconde(liste_temps[1])+tempsEnSeconde(liste_temps[2])+tempsEnSeconde(liste_temps[3])\n",
    "    horaire=secondeEnTemps(horaire)\n",
    "    nbh=horaire[0]*24+horaire[1]\n",
    "    if nbh>140 or (tempsEnSeconde(liste_temps[0])>tempsEnSeconde((2,0,0,0)) or tempsEnSeconde(liste_temps[1])>tempsEnSeconde((2,0,0,0)) or tempsEnSeconde(liste_temps[2])>tempsEnSeconde((2,0,0,0)) or tempsEnSeconde(liste_temps[3])>tempsEnSeconde((2,0,0,0))):\n",
    "        print(\"Charge horaire trop importante\")\n",
    "    else:\n",
    "        print(\"Charge horaire respectée\")\n",
    "    return nbh\n",
    "\n",
    "\n",
    "liste_temps = [[1,2,39,34],[0,1,9,4],[0,29,39,51],[0,31,13,46]]\n",
    "verifie(liste_temps)"
   ]
  },
  {
   "cell_type": "code",
   "execution_count": 87,
   "metadata": {},
   "outputs": [
    {
     "ename": "UnboundLocalError",
     "evalue": "local variable 'a' referenced before assignment",
     "output_type": "error",
     "traceback": [
      "\u001b[1;31m---------------------------------------------------------------------------\u001b[0m",
      "\u001b[1;31mUnboundLocalError\u001b[0m                         Traceback (most recent call last)",
      "\u001b[1;32m~\\AppData\\Local\\Temp/ipykernel_35020/851564760.py\u001b[0m in \u001b[0;36m<module>\u001b[1;34m\u001b[0m\n\u001b[0;32m      7\u001b[0m \u001b[1;33m\u001b[0m\u001b[0m\n\u001b[0;32m      8\u001b[0m \u001b[0mc\u001b[0m \u001b[1;33m=\u001b[0m \u001b[1;36m1\u001b[0m\u001b[1;33m\u001b[0m\u001b[1;33m\u001b[0m\u001b[0m\n\u001b[1;32m----> 9\u001b[1;33m \u001b[0mb\u001b[0m \u001b[1;33m=\u001b[0m \u001b[0mcalculs\u001b[0m\u001b[1;33m(\u001b[0m\u001b[1;36m3\u001b[0m\u001b[1;33m,\u001b[0m\u001b[1;36m4\u001b[0m\u001b[1;33m)\u001b[0m\u001b[1;33m\u001b[0m\u001b[1;33m\u001b[0m\u001b[0m\n\u001b[0m\u001b[0;32m     10\u001b[0m \u001b[0mprint\u001b[0m\u001b[1;33m(\u001b[0m\u001b[0ma\u001b[0m\u001b[1;33m,\u001b[0m\u001b[0mb\u001b[0m\u001b[1;33m,\u001b[0m\u001b[0mc\u001b[0m\u001b[1;33m)\u001b[0m\u001b[1;33m\u001b[0m\u001b[1;33m\u001b[0m\u001b[0m\n",
      "\u001b[1;32m~\\AppData\\Local\\Temp/ipykernel_35020/851564760.py\u001b[0m in \u001b[0;36mcalculs\u001b[1;34m(b, c)\u001b[0m\n\u001b[0;32m      2\u001b[0m \u001b[1;33m\u001b[0m\u001b[0m\n\u001b[0;32m      3\u001b[0m \u001b[1;32mdef\u001b[0m \u001b[0mcalculs\u001b[0m\u001b[1;33m(\u001b[0m\u001b[0mb\u001b[0m\u001b[1;33m,\u001b[0m\u001b[0mc\u001b[0m\u001b[1;33m)\u001b[0m\u001b[1;33m:\u001b[0m\u001b[1;33m\u001b[0m\u001b[1;33m\u001b[0m\u001b[0m\n\u001b[1;32m----> 4\u001b[1;33m     \u001b[0mc\u001b[0m \u001b[1;33m=\u001b[0m \u001b[0ma\u001b[0m \u001b[1;33m*\u001b[0m \u001b[1;36m2\u001b[0m\u001b[1;33m\u001b[0m\u001b[1;33m\u001b[0m\u001b[0m\n\u001b[0m\u001b[0;32m      5\u001b[0m     \u001b[0ma\u001b[0m \u001b[1;33m=\u001b[0m \u001b[1;36m1\u001b[0m\u001b[1;33m\u001b[0m\u001b[1;33m\u001b[0m\u001b[0m\n\u001b[0;32m      6\u001b[0m     \u001b[1;32mreturn\u001b[0m \u001b[0ma\u001b[0m \u001b[1;33m+\u001b[0m \u001b[0mb\u001b[0m\u001b[1;33m\u001b[0m\u001b[1;33m\u001b[0m\u001b[0m\n",
      "\u001b[1;31mUnboundLocalError\u001b[0m: local variable 'a' referenced before assignment"
     ]
    }
   ],
   "source": [
    "a = 2\n",
    "\n",
    "def calculs(b,c):\n",
    "    c = a * 2 #a n'est pas défini dans la fonction donc on ne peut pas l'utiliser\n",
    "    a = 1\n",
    "    return a + b\n",
    "\n",
    "c = 1\n",
    "b = calculs(3,4)\n",
    "print(a,b,c)"
   ]
  },
  {
   "cell_type": "code",
   "execution_count": 88,
   "metadata": {},
   "outputs": [
    {
     "name": "stdout",
     "output_type": "stream",
     "text": [
      "2 4 1\n"
     ]
    }
   ],
   "source": [
    "def calculs(b,c):\n",
    "    a=2\n",
    "    c = a * 2\n",
    "    a = 1\n",
    "    return a + b\n",
    "\n",
    "c = 1\n",
    "b = calculs(3,4)\n",
    "print(a,b,c)"
   ]
  }
 ],
 "metadata": {
  "interpreter": {
   "hash": "3fcbadbd41ea6b92253e5726b2eeeba90d1a9627dcfc1aab1c683d4d38e18a24"
  },
  "kernelspec": {
   "display_name": "Python 3.9.7 64-bit ('l1-python': conda)",
   "name": "python3"
  },
  "language_info": {
   "codemirror_mode": {
    "name": "ipython",
    "version": 3
   },
   "file_extension": ".py",
   "mimetype": "text/x-python",
   "name": "python",
   "nbconvert_exporter": "python",
   "pygments_lexer": "ipython3",
   "version": "3.9.7"
  }
 },
 "nbformat": 4,
 "nbformat_minor": 4
}
